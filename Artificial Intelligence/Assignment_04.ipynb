{
  "nbformat": 4,
  "nbformat_minor": 0,
  "metadata": {
    "colab": {
      "name": "Assignment_04.ipynb",
      "provenance": [],
      "collapsed_sections": []
    },
    "kernelspec": {
      "name": "python3",
      "display_name": "Python 3"
    },
    "language_info": {
      "name": "python"
    }
  },
  "cells": [
    {
      "cell_type": "markdown",
      "source": [
        "**1. Implement K Nearest Neighbor classifier in Python.**"
      ],
      "metadata": {
        "id": "d71_maH21b7J"
      }
    },
    {
      "cell_type": "code",
      "execution_count": 27,
      "metadata": {
        "id": "50ubkjdFyZZ7",
        "colab": {
          "base_uri": "https://localhost:8080/",
          "height": 312
        },
        "outputId": "2f26623e-b073-496e-fa4d-b30e63f0457d"
      },
      "outputs": [
        {
          "output_type": "display_data",
          "data": {
            "image/png": "[encoded data removed]",
            "text/plain": [
              "<Figure size 432x288 with 1 Axes>"
            ]
          },
          "metadata": {
            "needs_background": "light"
          }
        },
        {
          "output_type": "stream",
          "name": "stdout",
          "text": [
            "red\n"
          ]
        }
      ],
      "source": [
        "from math import sqrt\n",
        "import numpy as np\n",
        "import matplotlib.pyplot as plt\n",
        "import pandas as pd\n",
        "\n",
        "dataset = [[1,2, 'black'],\n",
        "            [2,3, 'black'],\n",
        "            [3,2, 'black'],\n",
        "            [7,5, 'red'],\n",
        "            [6,7, 'red'],\n",
        "            [8,6, 'red']]\n",
        "\n",
        "data=[]\n",
        "\n",
        "for i in dataset:\n",
        "  temp=(i[0],i[1])\n",
        "  data.append(temp)\n",
        "\n",
        "data=pd.DataFrame(data, columns = ['X','Y'])\n",
        "X = data.iloc[:,:].values\n",
        "\n",
        "test = [6,8]\n",
        "\n",
        "plt.scatter(X[:,0],X[:,1],c='black',label='unclustered data')\n",
        "plt.xlabel('X')\n",
        "plt.ylabel('Y')\n",
        "plt.legend()\n",
        "plt.title('Plot of data points')\n",
        "plt.show()\n",
        "\n",
        "\n",
        "\n",
        "def Euclidean_distance(row1, row2):\n",
        "    distance = 0\n",
        "    for i in range(len(row1)-1):\n",
        "        distance += (row1[i] - row2[i])**2\n",
        "    return sqrt(distance)\n",
        "\n",
        "\n",
        "def Get_Neighbors(train, test_row, num):\n",
        "    distance = list()  # []\n",
        "    data = []\n",
        "    for i in train:\n",
        "        dist = Euclidean_distance(test_row, i)\n",
        "        distance.append(dist)\n",
        "        data.append(i)\n",
        "    distance = np.array(distance)\n",
        "    data = np.array(data)\n",
        "    index_dist = distance.argsort()\n",
        "    data = data[index_dist]\n",
        "    neighbors = data[:num]\n",
        "    return neighbors\n",
        "\n",
        "def predict_classification(train, test_row, num):\n",
        "    Neighbors = Get_Neighbors(train, test_row, num)\n",
        "    Classes = []\n",
        "    for i in Neighbors:\n",
        "        Classes.append(i[-1])\n",
        "    prediction = max(Classes, key= Classes.count)\n",
        "    return prediction\n",
        "prediction = predict_classification(dataset, test, 5)\n",
        "print(prediction)\n"
      ]
    },
    {
      "cell_type": "markdown",
      "source": [
        "**2. Implement K Means Clustering algorithm in Python.**"
      ],
      "metadata": {
        "id": "MqOBthn11m-_"
      }
    },
    {
      "cell_type": "code",
      "source": [
        "import numpy as np\n",
        "import matplotlib.pyplot as plt\n",
        "import pandas as pd\n",
        "import random as rd\n",
        "from collections import defaultdict\n",
        "import matplotlib.cm as cm\n",
        "\n",
        "dataset=[(1,1),(2,1),(4,3),(5,4)]\n",
        "dataset=pd.DataFrame (dataset, columns = ['X','Y'])\n",
        "X = dataset.iloc[:,:].values\n",
        "\n",
        "K=2\n",
        "m=4\n",
        "Centroids=np.array([]).reshape(2,0)\n",
        "\n",
        "#step 1\n",
        "for i in range(K):\n",
        "    rand=rd.randint(0,m-1)\n",
        "    Centroids=np.c_[Centroids,X[rand]]\n",
        "    \n",
        "\n",
        "#step2\n",
        "num_iter=5\n",
        "Output=defaultdict()\n",
        "Output={}\n",
        "for n in range(num_iter):\n",
        "    #step 2.a\n",
        "    EuclidianDistance=np.array([]).reshape(m,0)\n",
        "    for k in range(K):\n",
        "        tempDist=np.sum((X-Centroids[:,k])**2,axis=1)\n",
        "        EuclidianDistance=np.c_[EuclidianDistance,tempDist]\n",
        "        \n",
        "    C=np.argmin(EuclidianDistance,axis=1)+1\n",
        "    #step 2.b\n",
        "    Y={}\n",
        "    for k in range(K):\n",
        "        Y[k+1]=np.array([]).reshape(2,0)\n",
        "    for i in range(m):\n",
        "        Y[C[i]]=np.c_[Y[C[i]],X[i]]\n",
        "     \n",
        "    for k in range(K):\n",
        "        Y[k+1]=Y[k+1].T\n",
        "        \n",
        "        \n",
        "    for k in range(K):\n",
        "        Centroids[:,k]=np.mean(Y[k+1],axis=0)\n",
        "        \n",
        "    Output=Y\n",
        "\n",
        "plt.scatter(X[:,0],X[:,1],c='black',label='unclustered data')\n",
        "plt.xlabel('X')\n",
        "plt.ylabel('Y')\n",
        "plt.legend()\n",
        "plt.title('Plot of data points')\n",
        "plt.show()\n",
        "\n",
        "#color=['red','blue','green','cyan','magenta']\n",
        "#labels=['cluster1','cluster2','cluster3','cluster4','cluster5']\n",
        "color=['red','blue']\n",
        "labels=['cluster1','cluster2']\n",
        "for k in range(K):\n",
        "    plt.scatter(Output[k+1][:,0],Output[k+1][:,1],c=color[k],label=labels[k])\n",
        "plt.scatter(Centroids[0,:],Centroids[1,:],s=300,c='yellow',label='Centroids')\n",
        "plt.xlabel('X')\n",
        "plt.ylabel('Y')\n",
        "plt.legend()\n",
        "plt.show()"
      ],
      "metadata": {
        "colab": {
          "base_uri": "https://localhost:8080/",
          "height": 557
        },
        "id": "sS1cIzZ01rKP",
        "outputId": "71aa47bd-bcc5-4a07-e77e-1e92ef499b86"
      },
      "execution_count": 9,
      "outputs": [
        {
          "output_type": "display_data",
          "data": {
            "image/png": "[encoded data removed]",
            "text/plain": [
              "<Figure size 432x288 with 1 Axes>"
            ]
          },
          "metadata": {
            "needs_background": "light"
          }
        },
        {
          "output_type": "display_data",
          "data": {
            "image/png": "[encoded data removed]",
            "text/plain": [
              "<Figure size 432x288 with 1 Axes>"
            ]
          },
          "metadata": {
            "needs_background": "light"
          }
        }
      ]
    }
  ]
}